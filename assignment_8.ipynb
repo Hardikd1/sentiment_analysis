{
 "cells": [
  {
   "cell_type": "code",
   "execution_count": 1,
   "id": "60c124a8",
   "metadata": {},
   "outputs": [],
   "source": [
    "text = \"\"\"\n",
    "Gaetano Bresci (1869–1901) was an Italian anarchist who assassinated King Umberto I of Italy. He became an anarchist after experiencing exploitation in the workplace and later emigrated to the United States, where he joined the Italian immigrant anarchist movement in Paterson, New Jersey. News of the Bava Beccaris massacre motivated him to return to Italy to assassinate Umberto. Bresci killed the king on 29 July 1900, during Umberto's scheduled appearance in Monza, amid a sparse police presence. The government of Italy suspected that Bresci had been a part of a conspiracy but no evidence was found to indicate that others were involved. He was sentenced to life imprisonment for murder and confined on Santo Stefano Island, where he was found dead of an apparent suicide the following year. After his death, Bresci became a martyr for the Italian left-wing. He inspired the American anarchist Leon Czolgosz to assassinate United States president William McKinley.\n",
    "\"\"\""
   ]
  },
  {
   "cell_type": "code",
   "execution_count": 2,
   "id": "8086cdc0",
   "metadata": {},
   "outputs": [
    {
     "name": "stderr",
     "output_type": "stream",
     "text": [
      "[nltk_data] Downloading package punkt_tab to\n",
      "[nltk_data]     C:\\Users\\Hetvi\\AppData\\Roaming\\nltk_data...\n",
      "[nltk_data]   Unzipping tokenizers\\punkt_tab.zip.\n"
     ]
    },
    {
     "data": {
      "text/plain": [
       "True"
      ]
     },
     "execution_count": 2,
     "metadata": {},
     "output_type": "execute_result"
    }
   ],
   "source": [
    "from nltk.tokenize import sent_tokenize, word_tokenize\n",
    "import nltk\n",
    "nltk.data.path.append(r\"C:\\Users\\asus\\AppData\\Roaming\\nltk_data\")\n",
    "import nltk\n",
    "nltk.download('punkt_tab')"
   ]
  },
  {
   "cell_type": "code",
   "execution_count": 3,
   "id": "75799960",
   "metadata": {},
   "outputs": [],
   "source": [
    "import re  # Regular expression library\n",
    "\n",
    "def clean_text(text):\n",
    "    text = text.lower()  # 1. Convert to lowercase\n",
    "    text = re.sub(r'\\d+', '', text)  # 2. Remove digits\n",
    "    text = re.sub(r'[^\\w\\s]', '', text)  # 3. Remove punctuation\n",
    "    text = re.sub(r'\\s+', ' ', text).strip()  # 4. Remove extra whitespace\n",
    "    return text\n"
   ]
  },
  {
   "cell_type": "code",
   "execution_count": 4,
   "id": "f76634fc",
   "metadata": {},
   "outputs": [
    {
     "name": "stdout",
     "output_type": "stream",
     "text": [
      "gaetano bresci was an italian anarchist who assassinated king umberto i of italy he became an anarchist after experiencing exploitation in the workplace and later emigrated to the united states where he joined the italian immigrant anarchist movement in paterson new jersey news of the bava beccaris massacre motivated him to return to italy to assassinate umberto bresci killed the king on july during umbertos scheduled appearance in monza amid a sparse police presence the government of italy suspected that bresci had been a part of a conspiracy but no evidence was found to indicate that others were involved he was sentenced to life imprisonment for murder and confined on santo stefano island where he was found dead of an apparent suicide the following year after his death bresci became a martyr for the italian leftwing he inspired the american anarchist leon czolgosz to assassinate united states president william mckinley\n"
     ]
    }
   ],
   "source": [
    "cleaned_text = clean_text(text)\n",
    "print(cleaned_text)\n"
   ]
  },
  {
   "cell_type": "markdown",
   "id": "d55b42f1",
   "metadata": {},
   "source": [
    "Sentence Tokenization"
   ]
  },
  {
   "cell_type": "code",
   "execution_count": 5,
   "id": "236fdb2b",
   "metadata": {},
   "outputs": [
    {
     "name": "stdout",
     "output_type": "stream",
     "text": [
      "Sentence Tokenization:\n",
      "1. gaetano bresci was an italian anarchist who assassinated king umberto i of italy he became an anarchist after experiencing exploitation in the workplace and later emigrated to the united states where he joined the italian immigrant anarchist movement in paterson new jersey news of the bava beccaris massacre motivated him to return to italy to assassinate umberto bresci killed the king on july during umbertos scheduled appearance in monza amid a sparse police presence the government of italy suspected that bresci had been a part of a conspiracy but no evidence was found to indicate that others were involved he was sentenced to life imprisonment for murder and confined on santo stefano island where he was found dead of an apparent suicide the following year after his death bresci became a martyr for the italian leftwing he inspired the american anarchist leon czolgosz to assassinate united states president william mckinley\n"
     ]
    }
   ],
   "source": [
    "sentences = sent_tokenize(cleaned_text)\n",
    "print(\"Sentence Tokenization:\")\n",
    "for i, sent in enumerate(sentences, 1):\n",
    "    print(f\"{i}. {sent}\")\n"
   ]
  },
  {
   "cell_type": "markdown",
   "id": "066682ba",
   "metadata": {},
   "source": [
    "Word Tokenization"
   ]
  },
  {
   "cell_type": "code",
   "execution_count": 6,
   "id": "de0d92af",
   "metadata": {},
   "outputs": [
    {
     "name": "stdout",
     "output_type": "stream",
     "text": [
      "\n",
      " Word Tokenization:\n",
      "['gaetano', 'bresci', 'was', 'an', 'italian', 'anarchist', 'who', 'assassinated', 'king', 'umberto', 'i', 'of', 'italy', 'he', 'became', 'an', 'anarchist', 'after', 'experiencing', 'exploitation', 'in', 'the', 'workplace', 'and', 'later', 'emigrated', 'to', 'the', 'united', 'states', 'where', 'he', 'joined', 'the', 'italian', 'immigrant', 'anarchist', 'movement', 'in', 'paterson', 'new', 'jersey', 'news', 'of', 'the', 'bava', 'beccaris', 'massacre', 'motivated', 'him', 'to', 'return', 'to', 'italy', 'to', 'assassinate', 'umberto', 'bresci', 'killed', 'the', 'king', 'on', 'july', 'during', 'umbertos', 'scheduled', 'appearance', 'in', 'monza', 'amid', 'a', 'sparse', 'police', 'presence', 'the', 'government', 'of', 'italy', 'suspected', 'that', 'bresci', 'had', 'been', 'a', 'part', 'of', 'a', 'conspiracy', 'but', 'no', 'evidence', 'was', 'found', 'to', 'indicate', 'that', 'others', 'were', 'involved', 'he', 'was', 'sentenced', 'to', 'life', 'imprisonment', 'for', 'murder', 'and', 'confined', 'on', 'santo', 'stefano', 'island', 'where', 'he', 'was', 'found', 'dead', 'of', 'an', 'apparent', 'suicide', 'the', 'following', 'year', 'after', 'his', 'death', 'bresci', 'became', 'a', 'martyr', 'for', 'the', 'italian', 'leftwing', 'he', 'inspired', 'the', 'american', 'anarchist', 'leon', 'czolgosz', 'to', 'assassinate', 'united', 'states', 'president', 'william', 'mckinley']\n",
      "\n",
      "Total words: 150\n"
     ]
    }
   ],
   "source": [
    "words = word_tokenize(cleaned_text)\n",
    "print(\"\\n Word Tokenization:\")\n",
    "print(words)\n",
    "print(f\"\\nTotal words: {len(words)}\")\n"
   ]
  },
  {
   "cell_type": "code",
   "execution_count": 7,
   "id": "6ffe92c8",
   "metadata": {},
   "outputs": [
    {
     "name": "stdout",
     "output_type": "stream",
     "text": [
      "\n",
      "Filtered Words (without stopwords):\n"
     ]
    },
    {
     "name": "stderr",
     "output_type": "stream",
     "text": [
      "[nltk_data] Downloading package stopwords to\n",
      "[nltk_data]     C:\\Users\\Hetvi\\AppData\\Roaming\\nltk_data...\n",
      "[nltk_data]   Package stopwords is already up-to-date!\n"
     ]
    }
   ],
   "source": [
    "import nltk\n",
    "from nltk.corpus import stopwords\n",
    "nltk.download('stopwords')\n",
    "stop_words = set(stopwords.words('english'))\n",
    "filtered_words = [word for word in words if word not in stop_words]\n",
    "print(\"\\nFiltered Words (without stopwords):\")\n"
   ]
  },
  {
   "cell_type": "code",
   "execution_count": 8,
   "id": "1e52c5bb",
   "metadata": {},
   "outputs": [
    {
     "name": "stdout",
     "output_type": "stream",
     "text": [
      "Original Word Tokens:\n",
      "['gaetano', 'bresci', 'was', 'an', 'italian', 'anarchist', 'who', 'assassinated', 'king', 'umberto', 'i', 'of', 'italy', 'he', 'became', 'an', 'anarchist', 'after', 'experiencing', 'exploitation', 'in', 'the', 'workplace', 'and', 'later', 'emigrated', 'to', 'the', 'united', 'states', 'where', 'he', 'joined', 'the', 'italian', 'immigrant', 'anarchist', 'movement', 'in', 'paterson', 'new', 'jersey', 'news', 'of', 'the', 'bava', 'beccaris', 'massacre', 'motivated', 'him', 'to', 'return', 'to', 'italy', 'to', 'assassinate', 'umberto', 'bresci', 'killed', 'the', 'king', 'on', 'july', 'during', 'umbertos', 'scheduled', 'appearance', 'in', 'monza', 'amid', 'a', 'sparse', 'police', 'presence', 'the', 'government', 'of', 'italy', 'suspected', 'that', 'bresci', 'had', 'been', 'a', 'part', 'of', 'a', 'conspiracy', 'but', 'no', 'evidence', 'was', 'found', 'to', 'indicate', 'that', 'others', 'were', 'involved', 'he', 'was', 'sentenced', 'to', 'life', 'imprisonment', 'for', 'murder', 'and', 'confined', 'on', 'santo', 'stefano', 'island', 'where', 'he', 'was', 'found', 'dead', 'of', 'an', 'apparent', 'suicide', 'the', 'following', 'year', 'after', 'his', 'death', 'bresci', 'became', 'a', 'martyr', 'for', 'the', 'italian', 'leftwing', 'he', 'inspired', 'the', 'american', 'anarchist', 'leon', 'czolgosz', 'to', 'assassinate', 'united', 'states', 'president', 'william', 'mckinley']\n",
      "Total words before removing stopwords: 150\n",
      "\n",
      "After Stopword Removal:\n",
      "['gaetano', 'bresci', 'italian', 'anarchist', 'assassinated', 'king', 'umberto', 'italy', 'became', 'anarchist', 'experiencing', 'exploitation', 'workplace', 'later', 'emigrated', 'united', 'states', 'joined', 'italian', 'immigrant', 'anarchist', 'movement', 'paterson', 'new', 'jersey', 'news', 'bava', 'beccaris', 'massacre', 'motivated', 'return', 'italy', 'assassinate', 'umberto', 'bresci', 'killed', 'king', 'july', 'umbertos', 'scheduled', 'appearance', 'monza', 'amid', 'sparse', 'police', 'presence', 'government', 'italy', 'suspected', 'bresci', 'part', 'conspiracy', 'evidence', 'found', 'indicate', 'others', 'involved', 'sentenced', 'life', 'imprisonment', 'murder', 'confined', 'santo', 'stefano', 'island', 'found', 'dead', 'apparent', 'suicide', 'following', 'year', 'death', 'bresci', 'became', 'martyr', 'italian', 'leftwing', 'inspired', 'american', 'anarchist', 'leon', 'czolgosz', 'assassinate', 'united', 'states', 'president', 'william', 'mckinley']\n",
      "Total words after removing stopwords: 88\n",
      "\n",
      "Unique words before stopword removal: 95\n",
      "Unique words after stopword removal: 71\n"
     ]
    }
   ],
   "source": [
    "print(\"Original Word Tokens:\")\n",
    "print(words)\n",
    "print(f\"Total words before removing stopwords: {len(words)}\")\n",
    "\n",
    "print(\"\\nAfter Stopword Removal:\")\n",
    "print(filtered_words)\n",
    "print(f\"Total words after removing stopwords: {len(filtered_words)}\")\n",
    "\n",
    "# Vocabulary sizes\n",
    "print(f\"\\nUnique words before stopword removal: {len(set(words))}\")\n",
    "print(f\"Unique words after stopword removal: {len(set(filtered_words))}\")\n"
   ]
  },
  {
   "cell_type": "code",
   "execution_count": 9,
   "id": "7144de19",
   "metadata": {},
   "outputs": [
    {
     "name": "stderr",
     "output_type": "stream",
     "text": [
      "[nltk_data] Downloading package wordnet to\n",
      "[nltk_data]     C:\\Users\\Hetvi\\AppData\\Roaming\\nltk_data...\n",
      "[nltk_data]   Package wordnet is already up-to-date!\n",
      "[nltk_data] Downloading package omw-1.4 to\n",
      "[nltk_data]     C:\\Users\\Hetvi\\AppData\\Roaming\\nltk_data...\n",
      "[nltk_data]   Package omw-1.4 is already up-to-date!\n"
     ]
    },
    {
     "name": "stdout",
     "output_type": "stream",
     "text": [
      "\u001b[38;5;2m✔ Download and installation successful\u001b[0m\n",
      "You can now load the package via spacy.load('en_core_web_sm')\n",
      "\u001b[38;5;3m⚠ Restart to reload dependencies\u001b[0m\n",
      "If you are in a Jupyter or Colab notebook, you may need to restart Python in\n",
      "order to load all the package's dependencies. You can do this by selecting the\n",
      "'Restart kernel' or 'Restart runtime' option.\n"
     ]
    }
   ],
   "source": [
    "from nltk.stem import PorterStemmer, SnowballStemmer\n",
    "from nltk.stem import WordNetLemmatizer\n",
    "import spacy\n",
    "import nltk\n",
    "from spacy import displacy\n",
    "\n",
    "nltk.download('wordnet')\n",
    "nltk.download('omw-1.4')\n",
    "spacy.cli.download(\"en_core_web_sm\")\n",
    "\n",
    "nlp = spacy.load(\"en_core_web_sm\")\n",
    "\n"
   ]
  },
  {
   "cell_type": "code",
   "execution_count": 10,
   "id": "2c2724c0",
   "metadata": {},
   "outputs": [],
   "source": [
    "words = [\"running\", \"flies\", \"better\", \"eating\", \"automation\", \n",
    "                \"organized\", \"responsible\", \"technologies\", \"studies\", \"collaborated\"]\n"
   ]
  },
  {
   "cell_type": "code",
   "execution_count": 11,
   "id": "37d2b705",
   "metadata": {},
   "outputs": [],
   "source": [
    "porter = PorterStemmer()\n",
    "snowball = SnowballStemmer(\"english\")\n",
    "\n",
    "porter_stemmed = [porter.stem(word) for word in words]\n",
    "snowball_stemmed = [snowball.stem(word) for word in words]\n"
   ]
  },
  {
   "cell_type": "code",
   "execution_count": 12,
   "id": "7e304e51",
   "metadata": {},
   "outputs": [],
   "source": [
    "lemmatizer = WordNetLemmatizer()\n",
    "wordnet_lemmatized = [lemmatizer.lemmatize(word) for word in words]\n",
    "\n",
    "# Using spaCy lemmatization\n",
    "spacy_doc = nlp(\" \".join(words))\n",
    "spacy_lemmatized = [token.lemma_ for token in spacy_doc]\n"
   ]
  },
  {
   "cell_type": "code",
   "execution_count": 13,
   "id": "9074728f",
   "metadata": {},
   "outputs": [
    {
     "name": "stdout",
     "output_type": "stream",
     "text": [
      "Word           Porter         Snowball       WordNet        spaCy          \n",
      "---------------------------------------------------------------------------\n",
      "running        run            run            running        run            \n",
      "flies          fli            fli            fly            fly            \n",
      "better         better         better         better         well           \n",
      "eating         eat            eat            eating         eat            \n",
      "automation     autom          autom          automation     automation     \n",
      "organized      organ          organ          organized      organize       \n",
      "responsible    respons        respons        responsible    responsible    \n",
      "technologies   technolog      technolog      technology     technology     \n",
      "studies        studi          studi          study          study          \n",
      "collaborated   collabor       collabor       collaborated   collaborate    \n"
     ]
    }
   ],
   "source": [
    "print(\"{:<15}{:<15}{:<15}{:<15}{:<15}\".format(\"Word\", \"Porter\", \"Snowball\", \"WordNet\", \"spaCy\"))\n",
    "print(\"-\" * 75)\n",
    "\n",
    "for i in range(len(words)):\n",
    "    print(\"{:<15}{:<15}{:<15}{:<15}{:<15}\".format(\n",
    "        words[i], porter_stemmed[i], snowball_stemmed[i],\n",
    "        wordnet_lemmatized[i], spacy_lemmatized[i]\n",
    "    ))\n"
   ]
  },
  {
   "cell_type": "code",
   "execution_count": 14,
   "id": "69eadf71",
   "metadata": {},
   "outputs": [
    {
     "name": "stdout",
     "output_type": "stream",
     "text": [
      "\n",
      "Part-of-Speech Tag Counts:\n",
      "SPACE: 24\n",
      "PROPN: 30\n",
      "PUNCT: 17\n",
      "NUM: 3\n",
      "AUX: 7\n",
      "DET: 17\n",
      "ADJ: 9\n",
      "NOUN: 28\n",
      "PRON: 9\n",
      "VERB: 20\n",
      "ADP: 19\n",
      "CCONJ: 3\n",
      "ADV: 1\n",
      "SCONJ: 4\n",
      "PART: 5\n"
     ]
    }
   ],
   "source": [
    "import spacy\n",
    "from collections import Counter\n",
    "import matplotlib.pyplot as plt\n",
    "\n",
    "# Load spaCy English model\n",
    "nlp = spacy.load(\"en_core_web_sm\")\n",
    "\n",
    "\n",
    "# Process text with spaCy\n",
    "doc = nlp(text)\n",
    "\n",
    "# Extract POS tags\n",
    "pos_tags = [token.pos_ for token in doc]\n",
    "\n",
    "# Count POS frequencies\n",
    "pos_counts = Counter(pos_tags)\n",
    "\n",
    "# Print POS tags and counts\n",
    "print(\"\\nPart-of-Speech Tag Counts:\")\n",
    "for tag, count in pos_counts.items():\n",
    "    print(f\"{tag}: {count}\")\n"
   ]
  },
  {
   "cell_type": "code",
   "execution_count": 15,
   "id": "838d45fa",
   "metadata": {},
   "outputs": [
    {
     "data": {
      "image/png": "[encoded data removed]",
      "text/plain": [
       "<Figure size 1000x600 with 1 Axes>"
      ]
     },
     "metadata": {},
     "output_type": "display_data"
    }
   ],
   "source": [
    "# Plotting the POS frequency\n",
    "plt.figure(figsize=(10, 6))\n",
    "plt.bar(pos_counts.keys(), pos_counts.values(), color='brown')\n",
    "plt.title(\"Part-of-Speech Tag Frequency\")\n",
    "plt.xlabel(\"POS Tags\")\n",
    "plt.ylabel(\"Count\")\n",
    "plt.xticks(rotation=45)\n",
    "plt.tight_layout()\n",
    "plt.show()\n"
   ]
  },
  {
   "cell_type": "code",
   "execution_count": 16,
   "id": "de3e1a73",
   "metadata": {},
   "outputs": [
    {
     "name": "stdout",
     "output_type": "stream",
     "text": [
      " Named Entities:\n",
      "\n",
      "Gaetano Bresci                 ➤ PERSON\n",
      "Italian                        ➤ NORP\n",
      "Italy                          ➤ GPE\n",
      "the United States              ➤ GPE\n",
      "Italian                        ➤ NORP\n",
      "Paterson                       ➤ PERSON\n",
      "New Jersey                     ➤ GPE\n",
      "Bava Beccaris                  ➤ PERSON\n",
      "Italy                          ➤ GPE\n",
      "Bresci                         ➤ PERSON\n",
      "29 July 1900                   ➤ DATE\n",
      "Umberto                        ➤ GPE\n",
      "Monza                          ➤ PERSON\n",
      "Italy                          ➤ GPE\n",
      "Bresci                         ➤ PERSON\n",
      "Stefano Island                 ➤ GPE\n",
      "the following year             ➤ DATE\n",
      "Bresci                         ➤ PERSON\n",
      "Italian                        ➤ NORP\n",
      "American                       ➤ NORP\n",
      "Leon Czolgosz                  ➤ PERSON\n",
      "United States                  ➤ GPE\n",
      "William McKinley               ➤ PERSON\n"
     ]
    }
   ],
   "source": [
    "doc = nlp(text)\n",
    "\n",
    "# Extract and print named entities\n",
    "print(\" Named Entities:\\n\")\n",
    "for ent in doc.ents:\n",
    "    print(f\"{ent.text:<30} ➤ {ent.label_}\")"
   ]
  }
 ],
 "metadata": {
  "kernelspec": {
   "display_name": "Python 3",
   "language": "python",
   "name": "python3"
  },
  "language_info": {
   "codemirror_mode": {
    "name": "ipython",
    "version": 3
   },
   "file_extension": ".py",
   "mimetype": "text/x-python",
   "name": "python",
   "nbconvert_exporter": "python",
   "pygments_lexer": "ipython3",
   "version": "3.11.9"
  }
 },
 "nbformat": 4,
 "nbformat_minor": 5
}
