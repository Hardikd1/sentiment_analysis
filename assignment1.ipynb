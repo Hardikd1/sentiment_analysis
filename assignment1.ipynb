{
 "cells": [
  {
   "cell_type": "markdown",
   "id": "6e6a2693",
   "metadata": {},
   "source": [
    "**Question 1: The Road Trip Planner**\n",
    "\n",
    "Imagine you are planning a road trip. You need to calculate some key details using Python.\n",
    "\n",
    "●\tYour car's fuel efficiency is 11.5 kilometers per liter.\n",
    "\n",
    "●\tThe total distance of the trip is 475 kilometers.\n",
    "\n",
    "●\tThe price of fuel is $1.65 per liter.\n",
    "\n",
    "●\tYour car's fuel tank capacity is 50 liters. You start with a full tank.\n",
    "\n",
    "Write Python expressions to calculate the following. For each part, show the expression and the result, and briefly explain your calculation.\n",
    "\n",
    "a. How many liters of fuel will you need for the entire trip? (5 marks)\n",
    "b. How many full tanks of fuel does this represent? (Use an operator that gives you the whole number of tanks). (5 marks)\n",
    "c. What is the total estimated fuel cost for the trip (based on the fuel needed)? (5 marks)\n",
    "d. After completing the trip, how many liters of fuel will be remaining in your tank if you started full and only refueled the exact amount needed? (Hint: Think about the fuel used from the last full tank). (5 marks)\n"
   ]
  },
  {
   "cell_type": "code",
   "execution_count": null,
   "id": "f7043cf9",
   "metadata": {},
   "outputs": [
    {
     "name": "stdout",
     "output_type": "stream",
     "text": [
      "Total fuel needed for the trip: 41.30434782608695 liters\n"
     ]
    }
   ],
   "source": [
    "## a. How many liters of fuel will you need for the entire trip? \n",
    "\n",
    "total_distance = 475\n",
    "fuel_efficiency = 11.5\n",
    "price_per_liter = 1.65 \n",
    "tank_capacity = 50\n",
    "\n",
    "fule_needed = total_distance / fuel_efficiency\n",
    "print(f\"Total fuel needed for the trip: {fule_needed} liters\")\n",
    "\n",
    "## Explanation: We divide the total distance by the car's fuel efficiency to get the total fuel needed for the trip."
   ]
  },
  {
   "cell_type": "code",
   "execution_count": 22,
   "id": "984ba4a1",
   "metadata": {},
   "outputs": [
    {
     "name": "stdout",
     "output_type": "stream",
     "text": [
      "Full tanks needed for the trip: 0.0 tanks\n"
     ]
    }
   ],
   "source": [
    "## How many full tanks of fuel does this represent? (Use an operator that gives you the whole number of tanks)\n",
    "\n",
    "\n",
    "full_tanks = fule_needed//tank_capacity\n",
    "print(f\"Full tanks needed for the trip: {full_tanks} tanks\")\n",
    "\n",
    "## Explanation: Using the floor division operator //, we find the number of complete tanks needed. Since the fuel required is less than one full tank, the result is 0."
   ]
  },
  {
   "cell_type": "code",
   "execution_count": null,
   "id": "75a1d877",
   "metadata": {},
   "outputs": [
    {
     "name": "stdout",
     "output_type": "stream",
     "text": [
      "Total estimated fuel cost for the trip: 68.15217391304347 dollars\n"
     ]
    }
   ],
   "source": [
    "## c. What is the total estimated fuel cost for the trip (based on the fuel needed)?\n",
    "\n",
    "total_cost = fule_needed * price_per_liter\n",
    "print(f\"Total estimated fuel cost for the trip: {total_cost} dollars\")\n",
    "\n",
    "## Explanation: We multiply the total fuel needed by the price per liter to get the total cost of fuel for the trip."
   ]
  },
  {
   "cell_type": "code",
   "execution_count": null,
   "id": "31d897ad",
   "metadata": {},
   "outputs": [
    {
     "name": "stdout",
     "output_type": "stream",
     "text": [
      "Remaining fuel in the tank after the trip: 8.695652173913047 liters\n"
     ]
    }
   ],
   "source": [
    "## d. After completing the trip, how many liters of fuel will be remaining in your tank if you started full and only refueled the exact amount needed?\n",
    "\n",
    "remaining_fuel = tank_capacity - fule_needed\n",
    "print(f\"Remaining fuel in the tank after the trip: {remaining_fuel} liters\")\n",
    "\n",
    "## Explanation: We subtract the total fuel needed from the tank capacity to find out how much fuel is left after the trip."
   ]
  },
  {
   "cell_type": "markdown",
   "id": "370043eb",
   "metadata": {},
   "source": [
    "**Section 2: Comparison & Logical Operators (20 Marks)**\n",
    "Question 2: Theme Park Entry Rules\n",
    "A theme park has a special discount rule. A person gets a discount if they meet ONE of the following criteria:\n",
    "\n",
    "●\tThey are a child (age 12 or younger) AND it is a weekday.\n",
    "\n",
    "●\tThey are a senior (age 65 or older) REGARDLESS of the day.\n",
    "\n",
    "●\tIt is a special \"Family Day\" AND they are part of a group of 4 or more.\n",
    "\n",
    "Let's define some Python variables:\n",
    "age = 30\n",
    "is_weekday = True\n",
    "is_family_day = False\n",
    "group_size = 3\n",
    "\n",
    "a. Write a single, comprehensive Python boolean expression that evaluates to True if a person with the current variable values qualifies for a discount, and False otherwise. Show the expression and its result. (10 marks)\n",
    "\n",
    "b. Now, change the variables to:\n",
    "age = 10\n",
    "is_weekday = True\n",
    "is_family_day = False\n",
    "group_size = 2\n",
    "Evaluate your boolean expression from part (a) with these new values. Show the result. (5 marks)\n",
    "\n",
    "c. For the scenario in part (b), explain step-by-step how Python evaluates your boolean expression. Describe the result of each comparison and how the and/or operators combine these results to reach the final answer. (5 marks)"
   ]
  },
  {
   "cell_type": "code",
   "execution_count": 24,
   "id": "ad1d14b6",
   "metadata": {},
   "outputs": [],
   "source": [
    "## variable for section 2\n",
    "age = 30\n",
    "is_weekday = True\n",
    "is_family_day = False\n",
    "group_size = 3"
   ]
  },
  {
   "cell_type": "code",
   "execution_count": 28,
   "id": "07f4d5bb",
   "metadata": {},
   "outputs": [
    {
     "name": "stdout",
     "output_type": "stream",
     "text": [
      "False\n"
     ]
    }
   ],
   "source": [
    "# Given data\n",
    "\n",
    "\n",
    "discount_eligible = ((age <= 12 and is_weekday) or (age >= 65) or (is_family_day and group_size >= 4))\n",
    "print(discount_eligible)\n",
    "\n",
    "# Explanation: The discount eligibility is determined by checking if the person is a child on a weekday, a senior citizen, or part of a family group on a family day."
   ]
  },
  {
   "cell_type": "code",
   "execution_count": 31,
   "id": "1fdec83c",
   "metadata": {},
   "outputs": [
    {
     "name": "stdout",
     "output_type": "stream",
     "text": [
      "True\n"
     ]
    }
   ],
   "source": [
    "# Updated variables for section 2\n",
    "age = 10\n",
    "is_weekday = True\n",
    "is_family_day = False\n",
    "group_size = 2\n",
    "\n",
    "\n",
    "discount_eligible = ((age <= 12 and is_weekday) or (age >= 65) or (is_family_day and group_size >= 4))\n",
    "print(discount_eligible) \n",
    "\n",
    "# Explanation: The discount eligibility is determined by checking if the person is a child on a weekday, a senior citizen, or part of a family group on a family day."
   ]
  },
  {
   "cell_type": "markdown",
   "id": "2977effa",
   "metadata": {},
   "source": [
    "c. For the scenario in part (b), explain step-by-step how Python evaluates your boolean expression. Describe the result of each comparison and how the and/or operators combine these results to reach the final answer.\n",
    "\n",
    "First, the condition age <= 12 and is_weekday is evaluated. Since the age is 10 and it is a weekday, this condition is True.\n",
    "\n",
    "Next, the condition age >= 65 is evaluated. The person is only 10, so this is False.\n",
    "\n",
    "Then, the condition is_family_day and group_size >= 4 is checked. It is not Family Day, and the group size is only 2, so this is also False.\n",
    "\n",
    "Finally, the OR conditions are combined: True or False or False, which results in True.\n",
    "\n",
    "Therefore, the person qualifies for the discount.\n"
   ]
  },
  {
   "cell_type": "markdown",
   "id": "43132347",
   "metadata": {},
   "source": [
    "**Section 3: String Data Types, Indexing & Slicing (25 Marks)**\n",
    "\n",
    "Question 3: Message Decoder\n",
    "You are given the following secret message encoded in a Python string:\n",
    "secret_message = \"PyThoN_Is_FuN_AnD_PoWeRfUl!\"\n",
    "\n",
    "a. What is the character at index 5 of secret_message? (3 marks)\n",
    "\n",
    "b. Using positive indexing and slicing, extract the substring \"Is_FuN\". (5 marks)\n",
    "\n",
    "c. Using negative indexing and slicing, extract the substring \"PoWeRfUl\". (5 marks)\n",
    "\n",
    "d. Create a new string that consists of every 4th character of secret_message, starting from the first character (index 0). (For example, if the string was \"ABCDEFGHI\", the result would be \"AEI\"). Show the slicing expression you used and the resulting string. (7 marks)\n",
    "\n",
    "e. If you try to access secret_message[50], what happens? Explain this result in your own words, referring to the concept of string length. (5 marks)\n"
   ]
  },
  {
   "cell_type": "code",
   "execution_count": 35,
   "id": "2f7d3aae",
   "metadata": {},
   "outputs": [],
   "source": [
    "secret_message = \"PyThoN_Is_FuN_AnD_PoWeRfUl!\""
   ]
  },
  {
   "cell_type": "code",
   "execution_count": 42,
   "id": "607ab642",
   "metadata": {},
   "outputs": [
    {
     "name": "stdout",
     "output_type": "stream",
     "text": [
      "N\n"
     ]
    }
   ],
   "source": [
    "## a. What is the character at index 5 of secret_message? (3 marks)\n",
    "\n",
    "char = secret_message[5]\n",
    "print(char)\n",
    "## Explanation: We access the character at index 5 of the string using square brackets."
   ]
  },
  {
   "cell_type": "code",
   "execution_count": 41,
   "id": "c60ea068",
   "metadata": {},
   "outputs": [
    {
     "name": "stdout",
     "output_type": "stream",
     "text": [
      "Is_FuN\n"
     ]
    }
   ],
   "source": [
    "## b. Using positive indexing and slicing, extract the substring \"Is_FuN\".\n",
    "\n",
    "substring = secret_message[7:13]\n",
    "print(substring)\n",
    "## Explanation: We use positive indexing to extract the substring \"Is_FuN\" from the original string. The start index is 7 and the end index is 13, which gives us the desired substring."
   ]
  },
  {
   "cell_type": "code",
   "execution_count": 46,
   "id": "187d67ee",
   "metadata": {},
   "outputs": [
    {
     "name": "stdout",
     "output_type": "stream",
     "text": [
      "PoWeRfUl\n"
     ]
    }
   ],
   "source": [
    "## c. Using negative indexing and slicing, extract the substring \"PoWeRfUl\".\n",
    "\n",
    "substring = secret_message[-9:-1]\n",
    "print(substring)\n",
    "## Explanation: We use negative indexing to extract the substring \"PoWeRfUl\" from the original string. The start index is -9 and the end index is -1, which gives us the desired substring."
   ]
  },
  {
   "cell_type": "code",
   "execution_count": null,
   "id": "ec2e9605",
   "metadata": {},
   "outputs": [
    {
     "name": "stdout",
     "output_type": "stream",
     "text": [
      "PosNDWU\n"
     ]
    }
   ],
   "source": [
    "## d. Create a new string that consists of every 4th character of secret_message, starting from the first character (index 0). (For example, if the string was \"ABCDEFGHI\", the result would be \"AEI\"). Show the slicing expression you used and the resulting string.\n",
    "\n",
    "substring = secret_message[::4]\n",
    "print(substring)\n",
    "\n",
    "## Explanation: We use slicing with a step of 4 to extract every 4th character from the original string, starting from index 0. The resulting string is \"P_N_AnD_P\"."
   ]
  },
  {
   "cell_type": "code",
   "execution_count": 50,
   "id": "2aa61d8a",
   "metadata": {},
   "outputs": [
    {
     "ename": "IndexError",
     "evalue": "string index out of range",
     "output_type": "error",
     "traceback": [
      "\u001b[1;31m---------------------------------------------------------------------------\u001b[0m",
      "\u001b[1;31mIndexError\u001b[0m                                Traceback (most recent call last)",
      "Cell \u001b[1;32mIn[50], line 3\u001b[0m\n\u001b[0;32m      1\u001b[0m \u001b[38;5;66;03m## e. If you try to access secret_message[50], what happens? Explain this result in your own words, referring to the concept of string length.\u001b[39;00m\n\u001b[1;32m----> 3\u001b[0m \u001b[43msecret_message\u001b[49m\u001b[43m[\u001b[49m\u001b[38;5;241;43m50\u001b[39;49m\u001b[43m]\u001b[49m\n",
      "\u001b[1;31mIndexError\u001b[0m: string index out of range"
     ]
    }
   ],
   "source": [
    "## e. If you try to access secret_message[50], what happens? Explain this result in your own words, referring to the concept of string length.\n",
    "\n",
    "secret_message[50]"
   ]
  },
  {
   "cell_type": "markdown",
   "id": "e741b643",
   "metadata": {},
   "source": [
    "**Section 4: Boolean Values & Expressions**\n",
    "\n",
    "Question 4: Predict and Verify\n",
    "Consider the following Python variable assignments:\n",
    "\n",
    "x = 15\n",
    "\n",
    "y = 25\n",
    "\n",
    "z = 15\n",
    "\n",
    "text = \"adventure\"\n",
    "For each boolean expression below:\n",
    "\n",
    "i. Predict whether the expression will evaluate to True or False before running it.\n",
    "\n",
    "ii. Write down the Python expression.\n",
    "\n",
    "iii. State the actual result Python gives.\n",
    "\n",
    "iv. If your prediction was incorrect, briefly explain what you misunderstood.\n",
    "\n",
    "a. (x == z) and (y > x) (5 marks)\n",
    "\n",
    "b. (x != z) or (y < x) or (len(text) < 5) (5 marks)\n",
    "\n",
    "c. not ((x > y) and (text == \"Adventure\")) (Note the case difference in \"Adventure\") (5 marks)\n",
    "\n"
   ]
  },
  {
   "cell_type": "code",
   "execution_count": 56,
   "id": "5160076a",
   "metadata": {},
   "outputs": [
    {
     "data": {
      "text/plain": [
       "True"
      ]
     },
     "execution_count": 56,
     "metadata": {},
     "output_type": "execute_result"
    }
   ],
   "source": [
    "x = 15\n",
    "\n",
    "y = 25\n",
    "\n",
    "z = 15\n",
    "\n",
    "text =  \"adventure\"\n",
    "\n",
    "(x == z) and (y > x)"
   ]
  },
  {
   "cell_type": "code",
   "execution_count": 57,
   "id": "e12e8c82",
   "metadata": {},
   "outputs": [
    {
     "data": {
      "text/plain": [
       "False"
      ]
     },
     "execution_count": 57,
     "metadata": {},
     "output_type": "execute_result"
    }
   ],
   "source": [
    "(x != z) or (y < x) or (len(text) < 5)"
   ]
  },
  {
   "cell_type": "code",
   "execution_count": 59,
   "id": "fc268ee2",
   "metadata": {},
   "outputs": [
    {
     "data": {
      "text/plain": [
       "True"
      ]
     },
     "execution_count": 59,
     "metadata": {},
     "output_type": "execute_result"
    }
   ],
   "source": [
    "not ((x > y) and (text == \"Adventure\"))"
   ]
  },
  {
   "cell_type": "markdown",
   "id": "b6d94cd6",
   "metadata": {},
   "source": [
    "**Question 5: User Profile Setup**\n",
    "\n",
    "You are working on a simple user profile system.\n",
    "\n",
    "a. A user tries to set their username: username = \"MyUser123\".\n",
    "\n",
    "Later, they want to change the first letter to lowercase directly: username[0] = 'm'.\n",
    "What happens when this code is executed? Explain this behavior in the context of a key property of strings in Python. (7 marks)\n",
    "\n",
    "b. Another user provides their favorite quote: quote = \" practice makes perfect \"\n",
    "\n",
    "Write Python code to perform the following transformations on this quote (apply them sequentially):\n",
    "\n",
    "1. Remove any leading or trailing whitespace.\n",
    "\n",
    "2. Convert the entire quote to uppercase.\n",
    "\n",
    "3. Replace the word \"PERFECT\" with \"PROGRESS\".\n",
    "\n",
    "Store the final result in a variable called formatted_quote.\n",
    "\n",
    "Show your code and the final value of formatted_quote. Explain what each string method you used does. (8 marks)\n",
    "\n",
    "c. What is the length of the original quote (including spaces) and the length of the formatted_quote? Show how you would find this using Python. (5 marks)\n"
   ]
  },
  {
   "cell_type": "code",
   "execution_count": 66,
   "id": "837814c8",
   "metadata": {},
   "outputs": [
    {
     "ename": "TypeError",
     "evalue": "'str' object does not support item assignment",
     "output_type": "error",
     "traceback": [
      "\u001b[1;31m---------------------------------------------------------------------------\u001b[0m",
      "\u001b[1;31mTypeError\u001b[0m                                 Traceback (most recent call last)",
      "Cell \u001b[1;32mIn[66], line 3\u001b[0m\n\u001b[0;32m      1\u001b[0m username \u001b[38;5;241m=\u001b[39m \u001b[38;5;124m\"\u001b[39m\u001b[38;5;124mMyUser123\u001b[39m\u001b[38;5;124m\"\u001b[39m\n\u001b[1;32m----> 3\u001b[0m \u001b[43musername\u001b[49m\u001b[43m[\u001b[49m\u001b[38;5;241;43m0\u001b[39;49m\u001b[43m]\u001b[49m \u001b[38;5;241m=\u001b[39m \u001b[38;5;124m\"\u001b[39m\u001b[38;5;124mm\u001b[39m\u001b[38;5;124m\"\u001b[39m\n\u001b[0;32m      4\u001b[0m \u001b[38;5;66;03m## Explanation: Strings in Python are immutable, which means once a string is created, its characters cannot be changed individually. To change the first letter to lowercase, you would need to create a new string like this:\u001b[39;00m\n",
      "\u001b[1;31mTypeError\u001b[0m: 'str' object does not support item assignment"
     ]
    }
   ],
   "source": [
    "username = \"MyUser123\"\n",
    "\n",
    "username[0] = \"m\"\n",
    "## Explanation: Strings in Python are immutable, which means once a string is created, its characters cannot be changed individually. To change the first letter to lowercase, you would need to create a new string like this:"
   ]
  },
  {
   "cell_type": "code",
   "execution_count": 67,
   "id": "f32827ed",
   "metadata": {},
   "outputs": [
    {
     "name": "stdout",
     "output_type": "stream",
     "text": [
      "myUser123\n"
     ]
    }
   ],
   "source": [
    "username = \"m\" + username[1:]\n",
    "print(username)"
   ]
  },
  {
   "cell_type": "code",
   "execution_count": 69,
   "id": "65d1fbe8",
   "metadata": {},
   "outputs": [
    {
     "name": "stdout",
     "output_type": "stream",
     "text": [
      "practice makes perfect\n"
     ]
    }
   ],
   "source": [
    "quote = \" practice makes perfect \"\n",
    "\n",
    "## 1. Remove any leading or trailing whitespace.\n",
    "\n",
    "quote = quote.strip()\n",
    "print(quote)"
   ]
  },
  {
   "cell_type": "code",
   "execution_count": 71,
   "id": "65e719c5",
   "metadata": {},
   "outputs": [
    {
     "name": "stdout",
     "output_type": "stream",
     "text": [
      "PRACTICE MAKES PERFECT\n"
     ]
    }
   ],
   "source": [
    "## 2. Convert the entire quote to uppercase.\n",
    "\n",
    "quote = quote.upper()\n",
    "print(quote)"
   ]
  },
  {
   "cell_type": "code",
   "execution_count": 73,
   "id": "396c7074",
   "metadata": {},
   "outputs": [
    {
     "name": "stdout",
     "output_type": "stream",
     "text": [
      "PRACTICE MAKES PROGRESS\n"
     ]
    }
   ],
   "source": [
    "## 3. Replace the word \"PERFECT\" with \"PROGRESS\".\n",
    "\n",
    "quote = quote.replace(\"PERFECT\", \"PROGRESS\")\n",
    "print(quote)"
   ]
  },
  {
   "cell_type": "code",
   "execution_count": 74,
   "id": "ef688830",
   "metadata": {},
   "outputs": [
    {
     "name": "stdout",
     "output_type": "stream",
     "text": [
      "PRACTICE MAKES PROGRESS\n"
     ]
    }
   ],
   "source": [
    "## Store the final result in a variable called formatted_quote.\n",
    "\n",
    "formatted_quote = quote\n",
    "print(formatted_quote)"
   ]
  },
  {
   "cell_type": "code",
   "execution_count": 76,
   "id": "7f90b675",
   "metadata": {},
   "outputs": [
    {
     "name": "stdout",
     "output_type": "stream",
     "text": [
      "PRACTICE MAKES PROGRESS\n"
     ]
    }
   ],
   "source": [
    "\n",
    "## Show your code and the final value of formatted_quote. Explain what each string method you used does.\n",
    "\n",
    "## Explanation:\n",
    "# 1. The strip() method removes any leading or trailing whitespace from the string.\n",
    "# 2. The upper() method converts all characters in the string to uppercase.\n",
    "# 3. The replace() method replaces all occurrences of the specified substring with another substring.\n",
    "# 4. The final result is stored in the variable formatted_quote.\n",
    "formatted_quote = \"PRACTICE MAKES PROGRESS\"\n",
    "print(formatted_quote)"
   ]
  },
  {
   "cell_type": "code",
   "execution_count": 79,
   "id": "9601c4a9",
   "metadata": {},
   "outputs": [
    {
     "name": "stdout",
     "output_type": "stream",
     "text": [
      "Length of original quote: 24\n",
      "Length of formatted quote: 23\n"
     ]
    }
   ],
   "source": [
    "## c. What is the length of the original quote (including spaces) and the length of the formatted_quote? Show how you would find this using Python.\n",
    "\n",
    "length_original_quote = len(\" practice makes perfect \")\n",
    "print(f\"Length of original quote: {length_original_quote}\")\n",
    "length_formatted_quote = len(formatted_quote)\n",
    "print(f\"Length of formatted quote: {length_formatted_quote}\")\n"
   ]
  }
 ],
 "metadata": {
  "kernelspec": {
   "display_name": "Python 3",
   "language": "python",
   "name": "python3"
  },
  "language_info": {
   "codemirror_mode": {
    "name": "ipython",
    "version": 3
   },
   "file_extension": ".py",
   "mimetype": "text/x-python",
   "name": "python",
   "nbconvert_exporter": "python",
   "pygments_lexer": "ipython3",
   "version": "3.11.9"
  }
 },
 "nbformat": 4,
 "nbformat_minor": 5
}
